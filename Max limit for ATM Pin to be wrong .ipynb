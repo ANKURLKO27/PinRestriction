{
 "cells": [
  {
   "cell_type": "code",
   "execution_count": 2,
   "id": "fe4d2cba",
   "metadata": {},
   "outputs": [
    {
     "name": "stdout",
     "output_type": "stream",
     "text": [
      "Enter your pin** 222\n",
      "Try again for pin 333\n",
      "Try again for pin 555\n",
      "correct pin\n"
     ]
    }
   ],
   "source": [
    "import sys\n",
    "pin=input(\"Enter your pin** \")\n",
    "attempt =1\n",
    "while pin!=\"555\":   #pin is already defined \n",
    "    if attempt >=3:\n",
    "        sys.exit(\"You have entered three wrong pin , please visit nearest branch\")\n",
    "    pin =input(\"Try again for pin \")\n",
    "    attempt +=1\n",
    "print(\"correct pin\")"
   ]
  },
  {
   "cell_type": "code",
   "execution_count": null,
   "id": "f9b876b1",
   "metadata": {},
   "outputs": [],
   "source": []
  }
 ],
 "metadata": {
  "kernelspec": {
   "display_name": "Python 3 (ipykernel)",
   "language": "python",
   "name": "python3"
  },
  "language_info": {
   "codemirror_mode": {
    "name": "ipython",
    "version": 3
   },
   "file_extension": ".py",
   "mimetype": "text/x-python",
   "name": "python",
   "nbconvert_exporter": "python",
   "pygments_lexer": "ipython3",
   "version": "3.9.7"
  }
 },
 "nbformat": 4,
 "nbformat_minor": 5
}
